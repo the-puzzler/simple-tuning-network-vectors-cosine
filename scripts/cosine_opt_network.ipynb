{
 "cells": [
  {
   "cell_type": "code",
   "execution_count": 2,
   "metadata": {},
   "outputs": [],
   "source": [
    "import pandas as pd\n",
    "import h5py\n",
    "from tqdm import tqdm\n",
    "import h5py\n",
    "import numpy as np"
   ]
  },
  {
   "cell_type": "markdown",
   "metadata": {},
   "source": [
    "# Load Data"
   ]
  },
  {
   "cell_type": "code",
   "execution_count": 3,
   "metadata": {},
   "outputs": [
    {
     "name": "stdout",
     "output_type": "stream",
     "text": [
      "embedding_dim 512\n",
      "n_proteins 19699\n",
      "precision 16\n"
     ]
    }
   ],
   "source": [
    "filename = '../data/9606.protein.network.embeddings.v12.0 (1).h5'\n",
    "\n",
    "with h5py.File(filename, 'r') as f:\n",
    "    meta_keys = f['metadata'].attrs.keys()\n",
    "    for key in meta_keys:\n",
    "        print(key, f['metadata'].attrs[key])\n",
    "    \n",
    "    embedding = f['embeddings'][:]\n",
    "    proteins = f['proteins'][:]\n",
    "    proteins = [p.decode('utf-8') for p in proteins]\n",
    "\n",
    "# Create DataFrame with one column containing the vector arrays\n",
    "network_vector_df = pd.DataFrame({\n",
    "    'embedding_vector': [np.array(vec) for vec in embedding]\n",
    "}, index=proteins)\n",
    "\n",
    "enrichment_df = pd.read_csv('../data/9606.protein.enrichment.terms.v12.0.txt.gz', \n",
    "                          sep='\\t',  \n",
    "                          compression='gzip')\n",
    "\n",
    "enrichment_df.set_index('#string_protein_id', inplace=True)\n",
    "\n",
    "go_categories = [\n",
    "    'Biological Process (Gene Ontology)',\n",
    "]\n",
    "\n",
    "go_enrichment_df = enrichment_df[enrichment_df['category'].isin(go_categories)]\n"
   ]
  },
  {
   "cell_type": "markdown",
   "metadata": {},
   "source": [
    "# Combine Data"
   ]
  },
  {
   "cell_type": "code",
   "execution_count": 4,
   "metadata": {},
   "outputs": [
    {
     "name": "stdout",
     "output_type": "stream",
     "text": [
      "Dataset Statistics:\n",
      "Total number of proteins: 19699\n",
      "Total number of GO terms after filtering: 13889\n",
      "Number of common terms filtered out (>.5%): 1798\n",
      "\n",
      "Proteins with no GO terms: 6466 (32.8%)\n",
      "- From missing GO annotations: 2434\n",
      "- From filtering: 4032\n",
      "\n",
      "GO terms per protein distribution:\n",
      "Mean: 8.7\n",
      "Median: 3.0\n",
      "Min: 0\n",
      "Max: 332\n",
      "\n",
      "Top 5 most common remaining terms:\n",
      "Regulation of transcription elongation from RNA polymerase II promoter: 86 proteins (0.4%)\n",
      "Negative regulation of transporter activity: 86 proteins (0.4%)\n",
      "Regulation of viral genome replication: 86 proteins (0.4%)\n",
      "Positive regulation of lipid biosynthetic process: 86 proteins (0.4%)\n",
      "Transport across blood-brain barrier: 86 proteins (0.4%)\n"
     ]
    }
   ],
   "source": [
    "# First create mapping of GO descriptions for proteins that have them\n",
    "go_descriptions = go_enrichment_df.groupby(level=0)['description'].agg(lambda x: list(set(x)))\n",
    "\n",
    "# Calculate frequency of each GO term (counting once per protein)\n",
    "term_frequencies = {}\n",
    "total_proteins = len(go_descriptions)\n",
    "for terms in go_descriptions:\n",
    "    unique_terms = set(terms)\n",
    "    for term in unique_terms:\n",
    "        term_frequencies[term] = term_frequencies.get(term, 0) + 1\n",
    "\n",
    "# Convert to percentages\n",
    "term_percentages = {term: count/total_proteins for term, count in term_frequencies.items()}\n",
    "\n",
    "# Find terms that appear in more than 5% of proteins\n",
    "common_terms = {term for term, percentage in term_percentages.items() if percentage > 0.005}\n",
    "\n",
    "# Filter out common terms\n",
    "def filter_common_terms(terms):\n",
    "    return [term for term in terms if term not in common_terms]\n",
    "\n",
    "# Apply filtering\n",
    "filtered_go_descriptions = go_descriptions.apply(filter_common_terms)\n",
    "\n",
    "# Create binary vectors for remaining terms\n",
    "all_go_terms = sorted(set(term for terms in filtered_go_descriptions for term in terms))\n",
    "term_to_idx = {term: idx for idx, term in enumerate(all_go_terms)}\n",
    "\n",
    "def terms_to_binary_vector(terms):\n",
    "    vector = [0] * len(all_go_terms)\n",
    "    if isinstance(terms, (list, set, tuple)):\n",
    "        for term in terms:\n",
    "            if term in term_to_idx:\n",
    "                vector[term_to_idx[term]] = 1\n",
    "    return vector\n",
    "\n",
    "# Create vectors for all proteins in network_vector_df\n",
    "all_protein_vectors = {}\n",
    "for protein in network_vector_df.index:\n",
    "    if protein in filtered_go_descriptions:\n",
    "        all_protein_vectors[protein] = terms_to_binary_vector(filtered_go_descriptions[protein])\n",
    "    else:\n",
    "        all_protein_vectors[protein] = [0] * len(all_go_terms)\n",
    "\n",
    "# Create final DataFrame with all proteins from embedding dataset\n",
    "final_df = pd.DataFrame({\n",
    "    'go_vector': list(all_protein_vectors.values())\n",
    "}, index=list(all_protein_vectors.keys()))\n",
    "\n",
    "# Print summary statistics\n",
    "print(\"Dataset Statistics:\")\n",
    "print(f\"Total number of proteins: {len(final_df)}\")\n",
    "print(f\"Total number of GO terms after filtering: {len(all_go_terms)}\")\n",
    "print(f\"Number of common terms filtered out (>.5%): {len(common_terms)}\")\n",
    "\n",
    "# Calculate how many proteins have no terms\n",
    "empty_vectors = sum(1 for vec in final_df['go_vector'] if sum(vec) == 0)\n",
    "print(f\"\\nProteins with no GO terms: {empty_vectors} ({(empty_vectors/len(final_df))*100:.1f}%)\")\n",
    "print(f\"- From missing GO annotations: {len(network_vector_df.index) - len(go_descriptions)}\")\n",
    "print(f\"- From filtering: {empty_vectors - (len(network_vector_df.index) - len(go_descriptions))}\")\n",
    "\n",
    "# Calculate distribution of GO terms per protein\n",
    "terms_per_protein = [sum(vec) for vec in final_df['go_vector']]\n",
    "print(\"\\nGO terms per protein distribution:\")\n",
    "print(f\"Mean: {np.mean(terms_per_protein):.1f}\")\n",
    "print(f\"Median: {np.median(terms_per_protein):.1f}\")\n",
    "print(f\"Min: {min(terms_per_protein)}\")\n",
    "print(f\"Max: {max(terms_per_protein)}\")\n",
    "\n",
    "# Calculate most common remaining terms\n",
    "term_counts = np.sum([vec for vec in final_df['go_vector']], axis=0)\n",
    "top_terms_idx = np.argsort(term_counts)[-5:][::-1]\n",
    "print(\"\\nTop 5 most common remaining terms:\")\n",
    "for idx in top_terms_idx:\n",
    "    term = [k for k, v in term_to_idx.items() if v == idx][0]\n",
    "    count = term_counts[idx]\n",
    "    percentage = (count/len(final_df))*100\n",
    "    print(f\"{term}: {count} proteins ({percentage:.1f}%)\")"
   ]
  },
  {
   "cell_type": "markdown",
   "metadata": {},
   "source": [
    "Prepare Data"
   ]
  },
  {
   "cell_type": "code",
   "execution_count": 5,
   "metadata": {},
   "outputs": [
    {
     "name": "stdout",
     "output_type": "stream",
     "text": [
      "Matrix shape: (19699, 13889)\n",
      "Matrix dtype: int64\n",
      "Total number of 1s: 170870\n",
      "Sparsity: 0.999\n"
     ]
    }
   ],
   "source": [
    "# Convert list of binary vectors to numpy matrix\n",
    "go_matrix = np.vstack(final_df['go_vector'])\n",
    "\n",
    "# Print shape and basic stats\n",
    "print(f\"Matrix shape: {go_matrix.shape}\")  # Should be (19699, n_GO_terms)\n",
    "print(f\"Matrix dtype: {go_matrix.dtype}\")\n",
    "print(f\"Total number of 1s: {np.sum(go_matrix)}\")\n",
    "print(f\"Sparsity: {1 - (np.sum(go_matrix)/(go_matrix.shape[0] * go_matrix.shape[1])):.3f}\")  # Fraction of zeros"
   ]
  },
  {
   "cell_type": "code",
   "execution_count": 6,
   "metadata": {},
   "outputs": [
    {
     "name": "stdout",
     "output_type": "stream",
     "text": [
      "Estimated from 1000 protein sample:\n",
      "Estimated proteins sharing terms: 1,405,689 pairs\n",
      "Total possible pairs: 194,015,451\n",
      "Estimated percentage sharing terms: 0.7%\n"
     ]
    }
   ],
   "source": [
    "# Take a random sample of proteins for estimation\n",
    "sample_size = 1000  # or whatever size gives good balance of speed vs accuracy\n",
    "np.random.seed(42)\n",
    "sample_indices = np.random.choice(go_matrix.shape[0], sample_size, replace=False)\n",
    "sample_matrix = go_matrix[sample_indices]\n",
    "\n",
    "# Calculate shared terms for just this sample\n",
    "sample_shared = sample_matrix @ sample_matrix.T\n",
    "sample_pairs_with_shared = np.sum(np.triu(sample_shared > 0, k=1))\n",
    "\n",
    "# Calculate statistics from sample\n",
    "sample_possible_pairs = (sample_size * (sample_size - 1)) // 2\n",
    "sharing_percentage = (sample_pairs_with_shared/sample_possible_pairs)*100\n",
    "\n",
    "# Extrapolate to full dataset\n",
    "total_proteins = go_matrix.shape[0]\n",
    "total_possible_pairs = (total_proteins * (total_proteins - 1)) // 2\n",
    "estimated_total_pairs = int((sharing_percentage/100) * total_possible_pairs)\n",
    "\n",
    "print(f\"Estimated from {sample_size} protein sample:\")\n",
    "print(f\"Estimated proteins sharing terms: {estimated_total_pairs:,} pairs\")\n",
    "print(f\"Total possible pairs: {total_possible_pairs:,}\")\n",
    "print(f\"Estimated percentage sharing terms: {sharing_percentage:.1f}%\")"
   ]
  },
  {
   "cell_type": "markdown",
   "metadata": {},
   "source": [
    "Generate Test and Train"
   ]
  },
  {
   "cell_type": "code",
   "execution_count": 7,
   "metadata": {},
   "outputs": [
    {
     "name": "stdout",
     "output_type": "stream",
     "text": [
      "Train positive pairs: 50000\n",
      "Train negative pairs: 50000\n",
      "Test positive pairs: 25000\n",
      "Test negative pairs: 25000\n"
     ]
    }
   ],
   "source": [
    "import numpy as np\n",
    "\n",
    "def generate_random_pair(n_proteins):\n",
    "    while True:\n",
    "        i = np.random.randint(0, n_proteins)\n",
    "        j = np.random.randint(0, n_proteins)\n",
    "        if i < j:  # ensure i < j to avoid duplicates\n",
    "            return (i, j)\n",
    "# Define desired sizes\n",
    "n_train = 50_000  # pairs per class in training set\n",
    "n_test = 25_000  # pairs per class in test set\n",
    "n_proteins = go_matrix.shape[0]\n",
    "\n",
    "pairs_set = set()\n",
    "nonpairs_set = set()\n",
    "\n",
    "# Keep sampling until we get enough of each\n",
    "total_needed = n_train + n_test\n",
    "while len(pairs_set) < total_needed or len(nonpairs_set) < total_needed:\n",
    "    i, j = generate_random_pair(n_proteins)\n",
    "    \n",
    "    # If we haven't seen this pair before\n",
    "    if (i, j) not in pairs_set and (i, j) not in nonpairs_set:\n",
    "        # Check if they share terms\n",
    "        if np.any(go_matrix[i] & go_matrix[j]):\n",
    "            if len(pairs_set) < total_needed:\n",
    "                pairs_set.add((i, j))\n",
    "        else:\n",
    "            if len(nonpairs_set) < total_needed:\n",
    "                nonpairs_set.add((i, j))\n",
    "\n",
    "# Convert to lists and shuffle\n",
    "pairs = list(pairs_set)\n",
    "nonpairs = list(nonpairs_set)\n",
    "np.random.shuffle(pairs)\n",
    "np.random.shuffle(nonpairs)\n",
    "\n",
    "# Split into train and test\n",
    "train_pairs = pairs[:n_train]\n",
    "test_pairs = pairs[n_train:total_needed]\n",
    "train_nonpairs = nonpairs[:n_train]\n",
    "test_nonpairs = nonpairs[n_train:total_needed]\n",
    "\n",
    "# Print statistics\n",
    "print(f\"Train positive pairs: {len(train_pairs)}\")\n",
    "print(f\"Train negative pairs: {len(train_nonpairs)}\")\n",
    "print(f\"Test positive pairs: {len(test_pairs)}\")\n",
    "print(f\"Test negative pairs: {len(test_nonpairs)}\")\n",
    "\n",
    "# Store in dictionaries\n",
    "train_data = {\n",
    "    'pairs': train_pairs,\n",
    "    'nonpairs': train_nonpairs\n",
    "}\n",
    "\n",
    "test_data = {\n",
    "    'pairs': test_pairs,\n",
    "    'nonpairs': test_nonpairs\n",
    "}"
   ]
  },
  {
   "cell_type": "code",
   "execution_count": 8,
   "metadata": {},
   "outputs": [
    {
     "name": "stdout",
     "output_type": "stream",
     "text": [
      "Number of overlapping pairs: 0\n",
      "No overlap between train and test sets - good to go!\n"
     ]
    }
   ],
   "source": [
    "train_set = set(train_pairs + train_nonpairs)\n",
    "test_set = set(test_pairs + test_nonpairs)\n",
    "overlap = train_set.intersection(test_set)\n",
    "\n",
    "print(f\"Number of overlapping pairs: {len(overlap)}\")\n",
    "if len(overlap) > 0:\n",
    "    print(\"Warning: Found overlapping pairs!\")\n",
    "    print(\"Example overlapping pairs:\", list(overlap)[:5])\n",
    "else:\n",
    "    print(\"No overlap between train and test sets - good to go!\")"
   ]
  },
  {
   "cell_type": "code",
   "execution_count": 9,
   "metadata": {},
   "outputs": [
    {
     "name": "stdout",
     "output_type": "stream",
     "text": [
      "Number of unique integers in train set: 19648\n",
      "Number of unique integers in test set: 19007\n",
      "Number of integers appearing in both sets: 18959\n",
      "Number of integers unique to train set: 689\n",
      "Number of integers unique to test set: 48\n"
     ]
    }
   ],
   "source": [
    "# Get unique integers from train set tuples\n",
    "train_ints = set(x for pair in train_pairs + train_nonpairs for x in pair)\n",
    "\n",
    "# Get unique integers from test set tuples\n",
    "test_ints = set(x for pair in test_pairs + test_nonpairs for x in pair)\n",
    "\n",
    "# Find overlap\n",
    "overlap_ints = train_ints & test_ints\n",
    "\n",
    "print(f\"Number of unique integers in train set: {len(train_ints)}\")\n",
    "print(f\"Number of unique integers in test set: {len(test_ints)}\")\n",
    "print(f\"Number of integers appearing in both sets: {len(overlap_ints)}\")\n",
    "print(f\"Number of integers unique to train set: {len(train_ints - test_ints)}\")\n",
    "print(f\"Number of integers unique to test set: {len(test_ints - train_ints)}\")"
   ]
  },
  {
   "cell_type": "code",
   "execution_count": 10,
   "metadata": {},
   "outputs": [
    {
     "name": "stdout",
     "output_type": "stream",
     "text": [
      "Generating initial pairs...\n"
     ]
    },
    {
     "name": "stderr",
     "output_type": "stream",
     "text": [
      "100%|██████████| 200000/200000 [04:49<00:00, 691.87it/s]  \n"
     ]
    }
   ],
   "source": [
    "import numpy as np\n",
    "from tqdm import tqdm  # for progress bars\n",
    "\n",
    "def generate_random_pair(n_proteins):\n",
    "    while True:\n",
    "        i = np.random.randint(0, n_proteins)\n",
    "        j = np.random.randint(0, n_proteins)\n",
    "        if i < j:  # ensure i < j to avoid duplicates\n",
    "            return (i, j)\n",
    "\n",
    "# First generate 100k pairs of each type\n",
    "n_pairs = 100_000\n",
    "n_proteins = go_matrix.shape[0]\n",
    "\n",
    "print(\"Generating initial pairs...\")\n",
    "pairs_set = set()\n",
    "nonpairs_set = set()\n",
    "\n",
    "with tqdm(total=n_pairs*2) as pbar:\n",
    "    while len(pairs_set) < n_pairs or len(nonpairs_set) < n_pairs:\n",
    "        i, j = generate_random_pair(n_proteins)\n",
    "        \n",
    "        if (i, j) not in pairs_set and (i, j) not in nonpairs_set:\n",
    "            if np.any(go_matrix[i] & go_matrix[j]):\n",
    "                if len(pairs_set) < n_pairs:\n",
    "                    pairs_set.add((i, j))\n",
    "                    pbar.update(1)\n",
    "            else:\n",
    "                if len(nonpairs_set) < n_pairs:\n",
    "                    nonpairs_set.add((i, j))\n",
    "                    pbar.update(1)\n",
    "\n",
    "# Convert to lists\n",
    "pairs = list(pairs_set)\n",
    "nonpairs = list(nonpairs_set)\n",
    "\n"
   ]
  },
  {
   "cell_type": "code",
   "execution_count": 24,
   "metadata": {},
   "outputs": [
    {
     "name": "stdout",
     "output_type": "stream",
     "text": [
      "\n",
      "Dataset Statistics:\n",
      "Eval positive pairs: 500\n",
      "Eval negative pairs: 500\n",
      "Train positive pairs: 51529\n",
      "Train negative pairs: 51529\n",
      "Test positive pairs: 12883\n",
      "Test negative pairs: 12883\n"
     ]
    }
   ],
   "source": [
    "# Randomly select 0.5% for eval\n",
    "eval_size = int(0.005 * n_pairs)\n",
    "eval_indices = np.random.choice(n_pairs, size=eval_size, replace=False)\n",
    "\n",
    "eval_pairs = [pairs[i] for i in eval_indices]\n",
    "eval_nonpairs = [nonpairs[i] for i in eval_indices]\n",
    "\n",
    "# Get proteins used in eval set\n",
    "eval_proteins = set()\n",
    "for i, j in eval_pairs + eval_nonpairs:\n",
    "    eval_proteins.add(i)\n",
    "    eval_proteins.add(j)\n",
    "\n",
    "# Filter remaining pairs to remove any traces of eval proteins\n",
    "remaining_pairs = []\n",
    "remaining_nonpairs = []\n",
    "\n",
    "for idx in range(n_pairs):\n",
    "    if idx not in eval_indices:\n",
    "        i, j = pairs[idx]\n",
    "        if i not in eval_proteins and j not in eval_proteins:\n",
    "            remaining_pairs.append((i, j))\n",
    "            \n",
    "        i, j = nonpairs[idx]\n",
    "        if i not in eval_proteins and j not in eval_proteins:\n",
    "            remaining_nonpairs.append((i, j))\n",
    "\n",
    "# Random 80-20 split on remaining data\n",
    "train_size = int(0.8 * len(remaining_pairs))\n",
    "\n",
    "np.random.shuffle(remaining_pairs)\n",
    "np.random.shuffle(remaining_nonpairs)\n",
    "\n",
    "train_pairs = remaining_pairs[:train_size]\n",
    "test_pairs = remaining_pairs[train_size:]\n",
    "train_nonpairs = remaining_nonpairs[:train_size]\n",
    "\n",
    "test_nonpairs = remaining_nonpairs[train_size:]\n",
    "test_size = len(test_pairs)  # Use number of positive test pairs as reference\n",
    "test_nonpairs = test_nonpairs[:test_size]  # Trim negative test pairs to match\n",
    "\n",
    "\n",
    "# Print statistics\n",
    "print(\"\\nDataset Statistics:\")\n",
    "print(f\"Eval positive pairs: {len(eval_pairs)}\")\n",
    "print(f\"Eval negative pairs: {len(eval_nonpairs)}\")\n",
    "print(f\"Train positive pairs: {len(train_pairs)}\")\n",
    "print(f\"Train negative pairs: {len(train_nonpairs)}\")\n",
    "print(f\"Test positive pairs: {len(test_pairs)}\")\n",
    "print(f\"Test negative pairs: {len(test_nonpairs)}\")\n",
    "\n",
    "# Store in dictionaries\n",
    "train_data = {\n",
    "    'pairs': train_pairs,\n",
    "    'nonpairs': train_nonpairs\n",
    "}\n",
    "\n",
    "eval_data = {\n",
    "    'pairs': eval_pairs,\n",
    "    'nonpairs': eval_nonpairs\n",
    "}\n",
    "\n",
    "test_data = {\n",
    "    'pairs': test_pairs,\n",
    "    'nonpairs': test_nonpairs\n",
    "}"
   ]
  },
  {
   "cell_type": "markdown",
   "metadata": {},
   "source": [
    "Model Train"
   ]
  },
  {
   "cell_type": "code",
   "execution_count": 12,
   "metadata": {},
   "outputs": [],
   "source": [
    "import torch\n",
    "import torch.nn as nn\n",
    "import torch.optim as optim\n",
    "from torch.utils.data import Dataset, DataLoader\n",
    "from sklearn.metrics import f1_score\n",
    "import numpy as np\n",
    "# First prepare our data\n",
    "def prepare_data(pairs, nonpairs, network_vector_df):\n",
    "    # Convert all pairs to labels and indices\n",
    "    all_pairs = [(i, j, 1) for i, j in pairs] + [(i, j, 0) for i, j in nonpairs]\n",
    "    \n",
    "    # Convert embeddings to torch tensor\n",
    "    embeddings = torch.tensor(np.vstack(network_vector_df['embedding_vector'].values), dtype=torch.float32)\n",
    "    \n",
    "    return all_pairs, embeddings\n",
    "\n",
    "\n",
    "# Dataset class\n",
    "class PairDataset(Dataset):\n",
    "    def __init__(self, pairs, embeddings):\n",
    "        self.pairs = pairs\n",
    "        self.embeddings = embeddings\n",
    "    \n",
    "    def __len__(self):\n",
    "        return len(self.pairs)\n",
    "    \n",
    "    def __getitem__(self, idx):\n",
    "        i, j, label = self.pairs[idx]\n",
    "        return {\n",
    "            'emb1': self.embeddings[i],\n",
    "            'emb2': self.embeddings[j],\n",
    "            'label': torch.tensor(label, dtype=torch.float32)\n",
    "        }\n",
    "# at 1% cut off\n",
    "# Simple element-wise weight model with sigmoid got f1 around 68, at 0.5% around 70\n",
    "# with a single nn layer(withresidual connection and dropout)-74. more layers just overfits \n",
    "\n",
    "# Simple element-wise weight model with sigmoid\n",
    "class EmbeddingWeights(nn.Module):\n",
    "    def __init__(self, embedding_dim=512):  # Fixed method name\n",
    "        super().__init__()  # Fixed super() call\n",
    "        self.weights = nn.Parameter(torch.randn(embedding_dim))\n",
    "        self.sigmoid = nn.Sigmoid()\n",
    "\n",
    "    def forward(self, emb1, emb2):\n",
    "        # Apply weights to embeddings\n",
    "        weighted_emb1 = emb1 * self.weights\n",
    "        weighted_emb2 = emb2 * self.weights\n",
    "\n",
    "        # Compute cosine similarity and apply sigmoid\n",
    "        cos_sim = nn.functional.cosine_similarity(weighted_emb1, weighted_emb2, dim=1)\n",
    "        return self.sigmoid(cos_sim)\n",
    "\n",
    "def evaluate_model(model, data_loader):\n",
    "    model.eval()\n",
    "    all_preds = []\n",
    "    all_labels = []\n",
    "    total_loss = 0\n",
    "    criterion = nn.BCELoss()\n",
    "    \n",
    "    with torch.no_grad():\n",
    "        for batch in data_loader:\n",
    "            output = model(batch['emb1'], batch['emb2'])\n",
    "            loss = criterion(output, batch['label'])\n",
    "            total_loss += loss.item()\n",
    "            \n",
    "            predictions = (output > 0.5).float()\n",
    "            all_preds.extend(predictions.cpu().numpy())\n",
    "            all_labels.extend(batch['label'].cpu().numpy())\n",
    "    \n",
    "    accuracy = np.mean(np.array(all_preds) == np.array(all_labels))\n",
    "    f1 = f1_score(all_labels, all_preds)\n",
    "    avg_loss = total_loss / len(data_loader)\n",
    "    \n",
    "    return accuracy, f1, avg_loss\n",
    "\n",
    "def train_model(model, train_loader, val_loader, num_epochs=10, learning_rate=1e-4):\n",
    "    optimizer = optim.Adam(model.parameters(), lr=learning_rate)\n",
    "    criterion = nn.BCELoss()\n",
    "    \n",
    "    best_f1 = 0\n",
    "    best_model = None\n",
    "    \n",
    "    for epoch in range(num_epochs):\n",
    "        model.train()\n",
    "        train_loss = 0\n",
    "        for batch in train_loader:\n",
    "            optimizer.zero_grad()\n",
    "            output = model(batch['emb1'], batch['emb2'])\n",
    "            loss = criterion(output, batch['label'])\n",
    "            loss.backward()\n",
    "            optimizer.step()\n",
    "            train_loss += loss.item()\n",
    "        \n",
    "        train_acc, train_f1, train_loss = evaluate_model(model, train_loader)\n",
    "        val_acc, val_f1, val_loss = evaluate_model(model, val_loader)\n",
    "        \n",
    "        if val_f1 > best_f1:\n",
    "            best_f1 = val_f1\n",
    "            best_model = model.state_dict().copy()\n",
    "        \n",
    "        print(f'Epoch {epoch+1}:')\n",
    "        print(f'Train - Loss: {train_loss:.4f}, Acc: {train_acc:.4f}, F1: {train_f1:.4f}')\n",
    "        print(f'Val   - Loss: {val_loss:.4f}, Acc: {val_acc:.4f}, F1: {val_f1:.4f}\\n')\n",
    "    \n",
    "    model.load_state_dict(best_model)\n",
    "    return model\n",
    "\n",
    "# Prepare data and train\n",
    "train_pairs_data, embeddings = prepare_data(train_pairs, train_nonpairs, network_vector_df)\n",
    "test_pairs_data, _ = prepare_data(test_pairs, test_nonpairs, network_vector_df)\n",
    "\n",
    "train_dataset = PairDataset(train_pairs_data, embeddings)\n",
    "test_dataset = PairDataset(test_pairs_data, embeddings)\n",
    "\n",
    "train_loader = DataLoader(train_dataset, batch_size=32, shuffle=True)\n",
    "test_loader = DataLoader(test_dataset, batch_size=32, shuffle=False)\n",
    "\n",
    "model = EmbeddingWeights()"
   ]
  },
  {
   "cell_type": "code",
   "execution_count": 13,
   "metadata": {},
   "outputs": [
    {
     "name": "stdout",
     "output_type": "stream",
     "text": [
      "Epoch 1:\n",
      "Train - Loss: 0.6558, Acc: 0.6491, F1: 0.6898\n",
      "Val   - Loss: 0.6556, Acc: 0.6506, F1: 0.6927\n",
      "\n",
      "Epoch 2:\n",
      "Train - Loss: 0.6546, Acc: 0.6514, F1: 0.6927\n",
      "Val   - Loss: 0.6545, Acc: 0.6533, F1: 0.6955\n",
      "\n",
      "Epoch 3:\n",
      "Train - Loss: 0.6535, Acc: 0.6528, F1: 0.6948\n",
      "Val   - Loss: 0.6534, Acc: 0.6546, F1: 0.6975\n",
      "\n",
      "Epoch 4:\n",
      "Train - Loss: 0.6524, Acc: 0.6535, F1: 0.6964\n",
      "Val   - Loss: 0.6524, Acc: 0.6563, F1: 0.6996\n",
      "\n",
      "Epoch 5:\n",
      "Train - Loss: 0.6514, Acc: 0.6546, F1: 0.6982\n",
      "Val   - Loss: 0.6514, Acc: 0.6573, F1: 0.7016\n",
      "\n",
      "Epoch 6:\n",
      "Train - Loss: 0.6503, Acc: 0.6546, F1: 0.6988\n",
      "Val   - Loss: 0.6504, Acc: 0.6564, F1: 0.7017\n",
      "\n",
      "Epoch 7:\n",
      "Train - Loss: 0.6494, Acc: 0.6552, F1: 0.6999\n",
      "Val   - Loss: 0.6494, Acc: 0.6563, F1: 0.7021\n",
      "\n",
      "Epoch 8:\n",
      "Train - Loss: 0.6484, Acc: 0.6551, F1: 0.7004\n",
      "Val   - Loss: 0.6485, Acc: 0.6560, F1: 0.7024\n",
      "\n",
      "Epoch 9:\n",
      "Train - Loss: 0.6475, Acc: 0.6549, F1: 0.7007\n",
      "Val   - Loss: 0.6477, Acc: 0.6548, F1: 0.7017\n",
      "\n",
      "Epoch 10:\n",
      "Train - Loss: 0.6467, Acc: 0.6544, F1: 0.7005\n",
      "Val   - Loss: 0.6469, Acc: 0.6544, F1: 0.7016\n",
      "\n"
     ]
    }
   ],
   "source": [
    "model = train_model(model, train_loader, test_loader, num_epochs=10)"
   ]
  },
  {
   "cell_type": "code",
   "execution_count": 14,
   "metadata": {},
   "outputs": [
    {
     "name": "stdout",
     "output_type": "stream",
     "text": [
      "\n",
      "Final Test Results:\n",
      "Accuracy: 0.6544\n",
      "F1 Score: 0.7016\n",
      "Loss: 0.6469\n"
     ]
    }
   ],
   "source": [
    "test_acc, test_f1, test_loss = evaluate_model(model, test_loader)\n",
    "print(\"\\nFinal Test Results:\")\n",
    "print(f\"Accuracy: {test_acc:.4f}\")\n",
    "print(f\"F1 Score: {test_f1:.4f}\")\n",
    "print(f\"Loss: {test_loss:.4f}\")"
   ]
  },
  {
   "cell_type": "code",
   "execution_count": 15,
   "metadata": {},
   "outputs": [
    {
     "name": "stdout",
     "output_type": "stream",
     "text": [
      "Evaluation Results:\n",
      "Accuracy: 0.6460\n",
      "F1 Score: 0.6932\n",
      "Loss: 0.6490\n"
     ]
    }
   ],
   "source": [
    "# Prepare evaluation data\n",
    "eval_pairs_data, _ = prepare_data(eval_pairs, eval_nonpairs, network_vector_df)\n",
    "eval_dataset = PairDataset(eval_pairs_data, embeddings)\n",
    "eval_loader = DataLoader(eval_dataset, batch_size=32, shuffle=False)\n",
    "\n",
    "# Run evaluation\n",
    "eval_acc, eval_f1, eval_loss = evaluate_model(model, eval_loader)\n",
    "print(f'Evaluation Results:')\n",
    "print(f'Accuracy: {eval_acc:.4f}')\n",
    "print(f'F1 Score: {eval_f1:.4f}')\n",
    "print(f'Loss: {eval_loss:.4f}')"
   ]
  },
  {
   "cell_type": "code",
   "execution_count": 16,
   "metadata": {},
   "outputs": [
    {
     "data": {
      "image/png": "[encoded data removed]",
      "text/plain": [
       "<Figure size 1500x600 with 2 Axes>"
      ]
     },
     "metadata": {},
     "output_type": "display_data"
    },
    {
     "name": "stdout",
     "output_type": "stream",
     "text": [
      "\n",
      "Weight Statistics:\n",
      "Mean: -0.0157\n",
      "Std: 0.9532\n",
      "Min: -3.9277 (Dimension 237)\n",
      "Max: 3.0803 (Dimension 331)\n",
      "\n",
      "Number of weights > 0.1: 194\n",
      "Number of weights < 0.1: 318\n",
      "Number of weights ≈ 0 (|w| < 0.1): 123\n"
     ]
    }
   ],
   "source": [
    "import matplotlib.pyplot as plt\n",
    "import seaborn as sns\n",
    "\n",
    "# Get the learned weights\n",
    "learned_weights = model.weights.detach().numpy()\n",
    "\n",
    "\n",
    "# Sort weights by magnitude for better visualization\n",
    "sorted_indices = np.argsort(learned_weights)\n",
    "sorted_weights = learned_weights[sorted_indices]\n",
    "\n",
    "# Create figure\n",
    "plt.figure(figsize=(15, 6))\n",
    "\n",
    "# Main weight distribution plot\n",
    "plt.subplot(1, 2, 1)\n",
    "plt.hist(learned_weights, bins=50, color='blue', alpha=0.7)\n",
    "plt.title('Distribution of Learned Weights')\n",
    "plt.xlabel('Weight Value')\n",
    "plt.ylabel('Frequency')\n",
    "plt.axvline(x=learned_weights.mean(), color='red', linestyle='--', label=f'Mean: {learned_weights.mean():.3f}')\n",
    "plt.legend()\n",
    "\n",
    "# Top/bottom weights plot\n",
    "plt.subplot(1, 2, 2)\n",
    "n_top = 20  # number of top/bottom weights to show\n",
    "\n",
    "# Plot top and bottom weights\n",
    "plt.barh(range(n_top), sorted_weights[-n_top:], color='green', alpha=0.7, label='Top weights')\n",
    "plt.barh(range(n_top, 2*n_top), sorted_weights[:n_top], color='red', alpha=0.7, label='Bottom weights')\n",
    "\n",
    "plt.yticks(range(2*n_top), \n",
    "          [f'Dim {sorted_indices[-i-1]}' for i in range(n_top)] + \n",
    "          [f'Dim {sorted_indices[i]}' for i in range(n_top)])\n",
    "plt.title(f'Top and Bottom {n_top} Weights')\n",
    "plt.xlabel('Weight Value')\n",
    "plt.legend()\n",
    "\n",
    "plt.tight_layout()\n",
    "plt.show()\n",
    "\n",
    "# Print some summary statistics\n",
    "print(\"\\nWeight Statistics:\")\n",
    "print(f\"Mean: {learned_weights.mean():.4f}\")\n",
    "print(f\"Std: {learned_weights.std():.4f}\")\n",
    "print(f\"Min: {learned_weights.min():.4f} (Dimension {sorted_indices[0]})\")\n",
    "print(f\"Max: {learned_weights.max():.4f} (Dimension {sorted_indices[-1]})\")\n",
    "\n",
    "# Count weights approximately equal to 0\n",
    "epsilon = 0.1  # You can adjust this threshold as needed\n",
    "print(f\"\\nNumber of weights > {epsilon}: {np.sum(learned_weights > epsilon)}\")\n",
    "print(f\"Number of weights < {epsilon}: {np.sum(learned_weights < epsilon)}\")\n",
    "\n",
    "\n",
    "zero_weights = np.sum(np.abs(learned_weights) < epsilon)\n",
    "print(f\"Number of weights ≈ 0 (|w| < {epsilon}): {zero_weights}\")"
   ]
  },
  {
   "cell_type": "code",
   "execution_count": 17,
   "metadata": {},
   "outputs": [],
   "source": [
    "np.save('learned_cosine_weights.npy', learned_weights)"
   ]
  },
  {
   "cell_type": "markdown",
   "metadata": {},
   "source": [
    "Baseline un-weighted cosine sim score."
   ]
  },
  {
   "cell_type": "code",
   "execution_count": 18,
   "metadata": {},
   "outputs": [
    {
     "name": "stdout",
     "output_type": "stream",
     "text": [
      "Unweighted Baseline Train - Acc: 0.6598, F1: 0.6989\n",
      "Unweighted Baseline Test  - Acc: 0.6595, F1: 0.7006\n"
     ]
    }
   ],
   "source": [
    "def evaluate_cosine_baseline(pairs_data, embeddings, weights=None):\n",
    "    sigmoid = nn.Sigmoid()\n",
    "    all_preds = []\n",
    "    all_labels = []\n",
    "    \n",
    "    for i, j, label in pairs_data:\n",
    "        emb1 = embeddings[i].unsqueeze(0)\n",
    "        emb2 = embeddings[j].unsqueeze(0)\n",
    "        \n",
    "        # Apply weights if provided\n",
    "        if weights is not None:\n",
    "            emb1 = emb1 * weights\n",
    "            emb2 = emb2 * weights\n",
    "        \n",
    "        # Calculate cosine similarity and apply sigmoid\n",
    "        cos_sim = nn.functional.cosine_similarity(emb1, emb2)\n",
    "        output = sigmoid(cos_sim)\n",
    "        \n",
    "        # Convert to binary prediction\n",
    "        pred = (output > 0.5).float()\n",
    "        \n",
    "        all_preds.append(pred.item())\n",
    "        all_labels.append(label)\n",
    "    \n",
    "    accuracy = np.mean(np.array(all_preds) == np.array(all_labels))\n",
    "    f1 = f1_score(all_labels, all_preds)\n",
    "    \n",
    "    return accuracy, f1\n",
    "\n",
    "# Test unweighted version\n",
    "train_acc, train_f1 = evaluate_cosine_baseline(train_pairs_data, embeddings)\n",
    "test_acc, test_f1 = evaluate_cosine_baseline(test_pairs_data, embeddings)\n",
    "\n",
    "print(f'Unweighted Baseline Train - Acc: {train_acc:.4f}, F1: {train_f1:.4f}')\n",
    "print(f'Unweighted Baseline Test  - Acc: {test_acc:.4f}, F1: {test_f1:.4f}')"
   ]
  },
  {
   "cell_type": "code",
   "execution_count": 26,
   "metadata": {},
   "outputs": [
    {
     "name": "stdout",
     "output_type": "stream",
     "text": [
      "Dimensions kept: 143/512 (27.9%)\n",
      "Dimensions kept: 143/512 (27.9%)\n",
      "Weighted Baseline Train - Acc: 0.6515, F1: 0.6984\n",
      "Weighted Baseline Test  - Acc: 0.6503, F1: 0.6988\n"
     ]
    }
   ],
   "source": [
    "# This completely removes dims with less than threshold magnitude weight\n",
    "def evaluate_cosine_baseline_with_threshold(pairs_data, embeddings, weights=None, threshold=1):\n",
    "    sigmoid = nn.Sigmoid()\n",
    "    all_preds = []\n",
    "    all_labels = []\n",
    "    \n",
    "    # If weights provided, create mask for significant dimensions\n",
    "    if weights is not None:\n",
    "        significant_dims = torch.abs(weights) >= threshold\n",
    "        # Filter embeddings and weights to only keep significant dimensions\n",
    "        filtered_weights = weights[significant_dims]\n",
    "    \n",
    "    for i, j, label in pairs_data:\n",
    "        emb1 = embeddings[i].unsqueeze(0)\n",
    "        emb2 = embeddings[j].unsqueeze(0)\n",
    "        \n",
    "        if weights is not None:\n",
    "            # Filter to significant dimensions\n",
    "            emb1 = emb1[:, significant_dims]\n",
    "            emb2 = emb2[:, significant_dims]\n",
    "            # Apply remaining weights\n",
    "            emb1 = emb1 * filtered_weights\n",
    "            emb2 = emb2 * filtered_weights\n",
    "        \n",
    "        # Calculate cosine similarity and apply sigmoid\n",
    "        cos_sim = nn.functional.cosine_similarity(emb1, emb2)\n",
    "        output = sigmoid(cos_sim)\n",
    "        \n",
    "        pred = (output > 0.5).float()\n",
    "        all_preds.append(pred.item())\n",
    "        all_labels.append(label)\n",
    "    \n",
    "    accuracy = np.mean(np.array(all_preds) == np.array(all_labels))\n",
    "    f1 = f1_score(all_labels, all_preds)\n",
    "    \n",
    "    # Calculate how many dimensions were kept\n",
    "    if weights is not None:\n",
    "        dims_kept = significant_dims.sum().item()\n",
    "        dims_total = len(weights)\n",
    "        print(f'Dimensions kept: {dims_kept}/{dims_total} ({(dims_kept/dims_total)*100:.1f}%)')\n",
    "    \n",
    "    return accuracy, f1\n",
    "\n",
    "# Test unweighted version\n",
    "train_acc, train_f1 = evaluate_cosine_baseline_with_threshold(train_pairs_data, embeddings, torch.tensor(learned_weights))\n",
    "test_acc, test_f1 = evaluate_cosine_baseline_with_threshold(test_pairs_data, embeddings, torch.tensor(learned_weights))\n",
    "\n",
    "print(f'Weighted Baseline Train - Acc: {train_acc:.4f}, F1: {train_f1:.4f}')\n",
    "print(f'Weighted Baseline Test  - Acc: {test_acc:.4f}, F1: {test_f1:.4f}')\n",
    "\n"
   ]
  },
  {
   "cell_type": "markdown",
   "metadata": {},
   "source": [
    "ROC Curve unweighted vs weighted"
   ]
  },
  {
   "cell_type": "code",
   "execution_count": 29,
   "metadata": {},
   "outputs": [
    {
     "data": {
      "image/png": "[encoded data removed]",
      "text/plain": [
       "<Figure size 1500x600 with 2 Axes>"
      ]
     },
     "metadata": {},
     "output_type": "display_data"
    },
    {
     "name": "stdout",
     "output_type": "stream",
     "text": [
      "AUC improvement: -0.0200\n"
     ]
    }
   ],
   "source": [
    "def plot_roc_comparison(eval_loader, learned_weights):\n",
    "    def get_predictions(dataloader, weights=None):\n",
    "        all_probs = []\n",
    "        all_labels = []\n",
    "        \n",
    "        for batch in dataloader:\n",
    "            emb1 = batch['emb1']\n",
    "            emb2 = batch['emb2']\n",
    "            labels = batch['label']\n",
    "            \n",
    "            if weights is not None:\n",
    "                # Apply weights\n",
    "                emb1 = emb1 * torch.from_numpy(weights)\n",
    "                emb2 = emb2 * torch.from_numpy(weights)\n",
    "            \n",
    "            # Compute cosine similarity\n",
    "            cos_sim = nn.functional.cosine_similarity(emb1, emb2, dim=1)\n",
    "            probs = torch.sigmoid(cos_sim).cpu().numpy()\n",
    "            \n",
    "            all_probs.extend(probs)\n",
    "            all_labels.extend(labels.cpu().numpy())\n",
    "        \n",
    "        return np.array(all_probs), np.array(all_labels)\n",
    "\n",
    "    # Get predictions for both weighted and unweighted\n",
    "    weighted_probs, true_labels = get_predictions(eval_loader, learned_weights)\n",
    "    unweighted_probs, _ = get_predictions(eval_loader)\n",
    "\n",
    "    # Calculate ROC curves\n",
    "    fpr_weighted, tpr_weighted, _ = roc_curve(true_labels, weighted_probs)\n",
    "    fpr_unweighted, tpr_unweighted, _ = roc_curve(true_labels, unweighted_probs)\n",
    "    \n",
    "    roc_auc_weighted = auc(fpr_weighted, tpr_weighted)\n",
    "    roc_auc_unweighted = auc(fpr_unweighted, tpr_unweighted)\n",
    "\n",
    "    # Create side-by-side plots\n",
    "    fig, (ax1, ax2) = plt.subplots(1, 2, figsize=(15, 6))\n",
    "\n",
    "    # Plot unweighted ROC\n",
    "    ax1.plot(fpr_unweighted, tpr_unweighted, color='darkorange', lw=2, \n",
    "             label=f'ROC curve (AUC = {roc_auc_unweighted:.2f})')\n",
    "    ax1.plot([0, 1], [0, 1], color='navy', lw=2, linestyle='--')\n",
    "    ax1.set_xlim([0.0, 1.0])\n",
    "    ax1.set_ylim([0.0, 1.05])\n",
    "    ax1.set_xlabel('False Positive Rate')\n",
    "    ax1.set_ylabel('True Positive Rate')\n",
    "    ax1.set_title('Unweighted ROC Curve')\n",
    "    ax1.legend(loc=\"lower right\")\n",
    "    ax1.grid(True)\n",
    "\n",
    "    # Plot weighted ROC\n",
    "    ax2.plot(fpr_weighted, tpr_weighted, color='green', lw=2,\n",
    "             label=f'ROC curve (AUC = {roc_auc_weighted:.2f})')\n",
    "    ax2.plot([0, 1], [0, 1], color='navy', lw=2, linestyle='--')\n",
    "    ax2.set_xlim([0.0, 1.0])\n",
    "    ax2.set_ylim([0.0, 1.05])\n",
    "    ax2.set_xlabel('False Positive Rate')\n",
    "    ax2.set_ylabel('True Positive Rate')\n",
    "    ax2.set_title('Weighted ROC Curve')\n",
    "    ax2.legend(loc=\"lower right\")\n",
    "    ax2.grid(True)\n",
    "\n",
    "    plt.tight_layout()\n",
    "    plt.show()\n",
    "\n",
    "    return roc_auc_unweighted, roc_auc_weighted\n",
    "\n",
    "# Usage:\n",
    "learned_weights = model.weights.detach().numpy()\n",
    "unweighted_auc, weighted_auc = plot_roc_comparison(eval_loader, learned_weights)\n",
    "print(f'AUC improvement: {weighted_auc - unweighted_auc:.4f}')"
   ]
  },
  {
   "cell_type": "markdown",
   "metadata": {},
   "source": [
    "Neural Representation Instead"
   ]
  },
  {
   "cell_type": "code",
   "execution_count": 20,
   "metadata": {},
   "outputs": [],
   "source": [
    "class EmbeddingNN(nn.Module):\n",
    "    def __init__(self, input_dim, layer_sizes):\n",
    "        super().__init__()\n",
    "        \n",
    "        # Build layers based on input list\n",
    "        layers = []\n",
    "        current_dim = input_dim\n",
    "        \n",
    "        # If single layer, just do direct projection\n",
    "        if len(layer_sizes) == 1:\n",
    "            layers.append(nn.Linear(current_dim, layer_sizes[0]))\n",
    "        # If multiple layers, add ReLU between them\n",
    "        else:\n",
    "            for size in layer_sizes[:-1]:\n",
    "                layers.extend([\n",
    "                    nn.Linear(current_dim, size),\n",
    "                    nn.ReLU()\n",
    "                ])\n",
    "                current_dim = size\n",
    "            # Add final projection layer\n",
    "            layers.append(nn.Linear(current_dim, layer_sizes[-1]))\n",
    "        \n",
    "        self.projection = nn.Sequential(*layers)\n",
    "        self.sigmoid = nn.Sigmoid()\n",
    "        \n",
    "    def forward(self, emb1, emb2):\n",
    "        proj1 = self.projection(emb1)\n",
    "        proj2 = self.projection(emb2)\n",
    "        \n",
    "        cos_sim = nn.functional.cosine_similarity(proj1, proj2, dim=1)\n",
    "        return self.sigmoid(cos_sim)"
   ]
  },
  {
   "cell_type": "code",
   "execution_count": 21,
   "metadata": {},
   "outputs": [],
   "source": [
    "# Prepare data and train\n",
    "train_pairs_data, embeddings = prepare_data(train_pairs, train_nonpairs, network_vector_df)\n",
    "test_pairs_data, _ = prepare_data(test_pairs, test_nonpairs, network_vector_df)\n",
    "\n",
    "train_dataset = PairDataset(train_pairs_data, embeddings)\n",
    "test_dataset = PairDataset(test_pairs_data, embeddings)\n",
    "\n",
    "train_loader = DataLoader(train_dataset, batch_size=32, shuffle=True)\n",
    "test_loader = DataLoader(test_dataset, batch_size=32, shuffle=False)\n",
    "\n",
    "modelNN = EmbeddingNN(input_dim=512, layer_sizes=[5])"
   ]
  },
  {
   "cell_type": "code",
   "execution_count": 22,
   "metadata": {},
   "outputs": [
    {
     "name": "stdout",
     "output_type": "stream",
     "text": [
      "Intel MKL WARNING: Support of Intel(R) Streaming SIMD Extensions 4.2 (Intel(R) SSE4.2) enabled only processors has been deprecated. Intel oneAPI Math Kernel Library 2025.0 will require Intel(R) Advanced Vector Extensions (Intel(R) AVX) instructions.\n",
      "Epoch 1:\n",
      "Train - Loss: 0.6003, Acc: 0.6917, F1: 0.7456\n",
      "Val   - Loss: 0.6059, Acc: 0.6822, F1: 0.7397\n",
      "\n",
      "Epoch 2:\n",
      "Train - Loss: 0.5961, Acc: 0.6981, F1: 0.7501\n",
      "Val   - Loss: 0.6032, Acc: 0.6867, F1: 0.7431\n",
      "\n",
      "Epoch 3:\n",
      "Train - Loss: 0.5947, Acc: 0.6990, F1: 0.7525\n",
      "Val   - Loss: 0.6026, Acc: 0.6859, F1: 0.7439\n",
      "\n",
      "Epoch 4:\n",
      "Train - Loss: 0.5940, Acc: 0.7020, F1: 0.7541\n",
      "Val   - Loss: 0.6020, Acc: 0.6877, F1: 0.7449\n",
      "\n",
      "Epoch 5:\n",
      "Train - Loss: 0.5937, Acc: 0.7021, F1: 0.7534\n",
      "Val   - Loss: 0.6015, Acc: 0.6901, F1: 0.7457\n",
      "\n"
     ]
    }
   ],
   "source": [
    "modelNN = train_model(modelNN, train_loader, test_loader, num_epochs=5, learning_rate=1e-4)"
   ]
  },
  {
   "cell_type": "code",
   "execution_count": 23,
   "metadata": {},
   "outputs": [
    {
     "name": "stdout",
     "output_type": "stream",
     "text": [
      "Evaluation Results:\n",
      "Accuracy: 0.6890\n",
      "F1 Score: 0.7457\n",
      "Loss: 0.6050\n"
     ]
    }
   ],
   "source": [
    "# Prepare evaluation data\n",
    "eval_pairs_data, _ = prepare_data(eval_pairs, eval_nonpairs, network_vector_df)\n",
    "eval_dataset = PairDataset(eval_pairs_data, embeddings)\n",
    "eval_loader = DataLoader(eval_dataset, batch_size=32, shuffle=False)\n",
    "\n",
    "# Run evaluation\n",
    "eval_acc, eval_f1, eval_loss = evaluate_model(modelNN, eval_loader)\n",
    "print(f'Evaluation Results:')\n",
    "print(f'Accuracy: {eval_acc:.4f}')\n",
    "print(f'F1 Score: {eval_f1:.4f}')\n",
    "print(f'Loss: {eval_loss:.4f}')"
   ]
  },
  {
   "cell_type": "code",
   "execution_count": 25,
   "metadata": {},
   "outputs": [],
   "source": [
    "torch.save(modelNN, 'neural_rep_network.pt')"
   ]
  }
 ],
 "metadata": {
  "kernelspec": {
   "display_name": "matlas",
   "language": "python",
   "name": "python3"
  },
  "language_info": {
   "codemirror_mode": {
    "name": "ipython",
    "version": 3
   },
   "file_extension": ".py",
   "mimetype": "text/x-python",
   "name": "python",
   "nbconvert_exporter": "python",
   "pygments_lexer": "ipython3",
   "version": "3.11.11"
  }
 },
 "nbformat": 4,
 "nbformat_minor": 2
}
